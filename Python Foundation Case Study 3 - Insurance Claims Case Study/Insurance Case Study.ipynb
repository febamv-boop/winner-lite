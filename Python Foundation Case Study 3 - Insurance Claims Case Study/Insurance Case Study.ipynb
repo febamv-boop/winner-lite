{
 "cells": [
  {
   "cell_type": "markdown",
   "id": "c3161973",
   "metadata": {},
   "source": [
    "## IMPORTING PACKAGES"
   ]
  },
  {
   "cell_type": "code",
   "execution_count": 33,
   "id": "ac6759fb",
   "metadata": {},
   "outputs": [],
   "source": [
    "import pandas as pd\n",
    "import numpy as np\n",
    "import datetime\n",
    "from datetime import datetime as dt\n",
    "import os\n",
    "import matplotlib.pyplot as plt\n",
    "import seaborn as sns"
   ]
  },
  {
   "cell_type": "markdown",
   "id": "77ad23da",
   "metadata": {},
   "source": [
    "\n",
    "## 1. Import claims_data.csv and cust_data.csv which is provided to you and combine the two datasets appropriately to create a 360-degree view of the data. Use the same for the subsequent questions.\n"
   ]
  },
  {
   "cell_type": "code",
   "execution_count": 2,
   "id": "b22c3547",
   "metadata": {},
   "outputs": [
    {
     "name": "stdout",
     "output_type": "stream",
     "text": [
      "C:\\Users\\itsfe\\Downloads\\Python Foundation Case Study 3 - Insurance Claims Case Study\n"
     ]
    }
   ],
   "source": [
    "%cd \"C:\\Users\\itsfe\\Downloads\\Python Foundation Case Study 3 - Insurance Claims Case Study\"\n"
   ]
  },
  {
   "cell_type": "code",
   "execution_count": 3,
   "id": "fefd9bfc",
   "metadata": {},
   "outputs": [
    {
     "data": {
      "text/html": [
       "<div>\n",
       "<style scoped>\n",
       "    .dataframe tbody tr th:only-of-type {\n",
       "        vertical-align: middle;\n",
       "    }\n",
       "\n",
       "    .dataframe tbody tr th {\n",
       "        vertical-align: top;\n",
       "    }\n",
       "\n",
       "    .dataframe thead th {\n",
       "        text-align: right;\n",
       "    }\n",
       "</style>\n",
       "<table border=\"1\" class=\"dataframe\">\n",
       "  <thead>\n",
       "    <tr style=\"text-align: right;\">\n",
       "      <th></th>\n",
       "      <th>claim_id</th>\n",
       "      <th>customer_id</th>\n",
       "      <th>incident_cause</th>\n",
       "      <th>claim_date</th>\n",
       "      <th>claim_area</th>\n",
       "      <th>police_report</th>\n",
       "      <th>claim_type</th>\n",
       "      <th>claim_amount</th>\n",
       "      <th>total_policy_claims</th>\n",
       "      <th>fraudulent</th>\n",
       "      <th>CUST_ID</th>\n",
       "      <th>gender</th>\n",
       "      <th>DateOfBirth</th>\n",
       "      <th>State</th>\n",
       "      <th>Contact</th>\n",
       "      <th>Segment</th>\n",
       "    </tr>\n",
       "  </thead>\n",
       "  <tbody>\n",
       "    <tr>\n",
       "      <th>0</th>\n",
       "      <td>54004764</td>\n",
       "      <td>21868593</td>\n",
       "      <td>Driver error</td>\n",
       "      <td>11/27/2017</td>\n",
       "      <td>Auto</td>\n",
       "      <td>No</td>\n",
       "      <td>Material only</td>\n",
       "      <td>$2980</td>\n",
       "      <td>1.0</td>\n",
       "      <td>No</td>\n",
       "      <td>21868593.0</td>\n",
       "      <td>Female</td>\n",
       "      <td>12-Jan-79</td>\n",
       "      <td>VT</td>\n",
       "      <td>789-916-8172</td>\n",
       "      <td>Platinum</td>\n",
       "    </tr>\n",
       "    <tr>\n",
       "      <th>1</th>\n",
       "      <td>33985796</td>\n",
       "      <td>75740424</td>\n",
       "      <td>Crime</td>\n",
       "      <td>10/03/2018</td>\n",
       "      <td>Home</td>\n",
       "      <td>Unknown</td>\n",
       "      <td>Material only</td>\n",
       "      <td>$2980</td>\n",
       "      <td>3.0</td>\n",
       "      <td>No</td>\n",
       "      <td>75740424.0</td>\n",
       "      <td>Female</td>\n",
       "      <td>13-Jan-70</td>\n",
       "      <td>ME</td>\n",
       "      <td>265-543-1264</td>\n",
       "      <td>Silver</td>\n",
       "    </tr>\n",
       "    <tr>\n",
       "      <th>2</th>\n",
       "      <td>53522022</td>\n",
       "      <td>30308357</td>\n",
       "      <td>Other driver error</td>\n",
       "      <td>02/02/2018</td>\n",
       "      <td>Auto</td>\n",
       "      <td>No</td>\n",
       "      <td>Material only</td>\n",
       "      <td>$3369.5</td>\n",
       "      <td>1.0</td>\n",
       "      <td>Yes</td>\n",
       "      <td>30308357.0</td>\n",
       "      <td>Female</td>\n",
       "      <td>11-Mar-84</td>\n",
       "      <td>TN</td>\n",
       "      <td>798-631-4758</td>\n",
       "      <td>Silver</td>\n",
       "    </tr>\n",
       "    <tr>\n",
       "      <th>3</th>\n",
       "      <td>13015401</td>\n",
       "      <td>47830476</td>\n",
       "      <td>Natural causes</td>\n",
       "      <td>06/17/2018</td>\n",
       "      <td>Auto</td>\n",
       "      <td>No</td>\n",
       "      <td>Material only</td>\n",
       "      <td>$1680</td>\n",
       "      <td>1.0</td>\n",
       "      <td>No</td>\n",
       "      <td>47830476.0</td>\n",
       "      <td>Female</td>\n",
       "      <td>01-May-86</td>\n",
       "      <td>MA</td>\n",
       "      <td>413-187-7945</td>\n",
       "      <td>Silver</td>\n",
       "    </tr>\n",
       "    <tr>\n",
       "      <th>4</th>\n",
       "      <td>22890252</td>\n",
       "      <td>19269962</td>\n",
       "      <td>Crime</td>\n",
       "      <td>01/13/2018</td>\n",
       "      <td>Auto</td>\n",
       "      <td>No</td>\n",
       "      <td>Material only</td>\n",
       "      <td>$2680</td>\n",
       "      <td>1.0</td>\n",
       "      <td>No</td>\n",
       "      <td>19269962.0</td>\n",
       "      <td>Male</td>\n",
       "      <td>13-May-77</td>\n",
       "      <td>NV</td>\n",
       "      <td>956-871-8691</td>\n",
       "      <td>Gold</td>\n",
       "    </tr>\n",
       "    <tr>\n",
       "      <th>...</th>\n",
       "      <td>...</td>\n",
       "      <td>...</td>\n",
       "      <td>...</td>\n",
       "      <td>...</td>\n",
       "      <td>...</td>\n",
       "      <td>...</td>\n",
       "      <td>...</td>\n",
       "      <td>...</td>\n",
       "      <td>...</td>\n",
       "      <td>...</td>\n",
       "      <td>...</td>\n",
       "      <td>...</td>\n",
       "      <td>...</td>\n",
       "      <td>...</td>\n",
       "      <td>...</td>\n",
       "      <td>...</td>\n",
       "    </tr>\n",
       "    <tr>\n",
       "      <th>1095</th>\n",
       "      <td>97727122</td>\n",
       "      <td>35951012</td>\n",
       "      <td>Other driver error</td>\n",
       "      <td>06/11/2017</td>\n",
       "      <td>Auto</td>\n",
       "      <td>No</td>\n",
       "      <td>Material only</td>\n",
       "      <td>$3059</td>\n",
       "      <td>4.0</td>\n",
       "      <td>Yes</td>\n",
       "      <td>NaN</td>\n",
       "      <td>NaN</td>\n",
       "      <td>NaN</td>\n",
       "      <td>NaN</td>\n",
       "      <td>NaN</td>\n",
       "      <td>NaN</td>\n",
       "    </tr>\n",
       "    <tr>\n",
       "      <th>1096</th>\n",
       "      <td>10247193</td>\n",
       "      <td>14818669</td>\n",
       "      <td>Natural causes</td>\n",
       "      <td>03/14/2018</td>\n",
       "      <td>Auto</td>\n",
       "      <td>No</td>\n",
       "      <td>Material only</td>\n",
       "      <td>$1520</td>\n",
       "      <td>2.0</td>\n",
       "      <td>No</td>\n",
       "      <td>NaN</td>\n",
       "      <td>NaN</td>\n",
       "      <td>NaN</td>\n",
       "      <td>NaN</td>\n",
       "      <td>NaN</td>\n",
       "      <td>NaN</td>\n",
       "    </tr>\n",
       "    <tr>\n",
       "      <th>1097</th>\n",
       "      <td>79807493</td>\n",
       "      <td>85322831</td>\n",
       "      <td>Other driver error</td>\n",
       "      <td>02/09/2018</td>\n",
       "      <td>Auto</td>\n",
       "      <td>No</td>\n",
       "      <td>Material and injury</td>\n",
       "      <td>$23575</td>\n",
       "      <td>2.0</td>\n",
       "      <td>Yes</td>\n",
       "      <td>NaN</td>\n",
       "      <td>NaN</td>\n",
       "      <td>NaN</td>\n",
       "      <td>NaN</td>\n",
       "      <td>NaN</td>\n",
       "      <td>NaN</td>\n",
       "    </tr>\n",
       "    <tr>\n",
       "      <th>1098</th>\n",
       "      <td>69299345</td>\n",
       "      <td>73449366</td>\n",
       "      <td>Other causes</td>\n",
       "      <td>03/21/2018</td>\n",
       "      <td>Auto</td>\n",
       "      <td>Unknown</td>\n",
       "      <td>Material and injury</td>\n",
       "      <td>$25120</td>\n",
       "      <td>1.0</td>\n",
       "      <td>No</td>\n",
       "      <td>NaN</td>\n",
       "      <td>NaN</td>\n",
       "      <td>NaN</td>\n",
       "      <td>NaN</td>\n",
       "      <td>NaN</td>\n",
       "      <td>NaN</td>\n",
       "    </tr>\n",
       "    <tr>\n",
       "      <th>1099</th>\n",
       "      <td>58809728</td>\n",
       "      <td>43020876</td>\n",
       "      <td>Other driver error</td>\n",
       "      <td>06/04/2017</td>\n",
       "      <td>Auto</td>\n",
       "      <td>Yes</td>\n",
       "      <td>Material and injury</td>\n",
       "      <td>$36685</td>\n",
       "      <td>3.0</td>\n",
       "      <td>Yes</td>\n",
       "      <td>NaN</td>\n",
       "      <td>NaN</td>\n",
       "      <td>NaN</td>\n",
       "      <td>NaN</td>\n",
       "      <td>NaN</td>\n",
       "      <td>NaN</td>\n",
       "    </tr>\n",
       "  </tbody>\n",
       "</table>\n",
       "<p>1100 rows × 16 columns</p>\n",
       "</div>"
      ],
      "text/plain": [
       "      claim_id  customer_id      incident_cause  claim_date claim_area  \\\n",
       "0     54004764     21868593        Driver error  11/27/2017       Auto   \n",
       "1     33985796     75740424               Crime  10/03/2018       Home   \n",
       "2     53522022     30308357  Other driver error  02/02/2018       Auto   \n",
       "3     13015401     47830476      Natural causes  06/17/2018       Auto   \n",
       "4     22890252     19269962               Crime  01/13/2018       Auto   \n",
       "...        ...          ...                 ...         ...        ...   \n",
       "1095  97727122     35951012  Other driver error  06/11/2017       Auto   \n",
       "1096  10247193     14818669      Natural causes  03/14/2018       Auto   \n",
       "1097  79807493     85322831  Other driver error  02/09/2018       Auto   \n",
       "1098  69299345     73449366        Other causes  03/21/2018       Auto   \n",
       "1099  58809728     43020876  Other driver error  06/04/2017       Auto   \n",
       "\n",
       "     police_report           claim_type claim_amount  total_policy_claims  \\\n",
       "0               No        Material only        $2980                  1.0   \n",
       "1          Unknown        Material only        $2980                  3.0   \n",
       "2               No        Material only      $3369.5                  1.0   \n",
       "3               No        Material only        $1680                  1.0   \n",
       "4               No        Material only        $2680                  1.0   \n",
       "...            ...                  ...          ...                  ...   \n",
       "1095            No        Material only        $3059                  4.0   \n",
       "1096            No        Material only        $1520                  2.0   \n",
       "1097            No  Material and injury       $23575                  2.0   \n",
       "1098       Unknown  Material and injury       $25120                  1.0   \n",
       "1099           Yes  Material and injury       $36685                  3.0   \n",
       "\n",
       "     fraudulent     CUST_ID  gender DateOfBirth State       Contact   Segment  \n",
       "0            No  21868593.0  Female   12-Jan-79    VT  789-916-8172  Platinum  \n",
       "1            No  75740424.0  Female   13-Jan-70    ME  265-543-1264    Silver  \n",
       "2           Yes  30308357.0  Female   11-Mar-84    TN  798-631-4758    Silver  \n",
       "3            No  47830476.0  Female   01-May-86    MA  413-187-7945    Silver  \n",
       "4            No  19269962.0    Male   13-May-77    NV  956-871-8691      Gold  \n",
       "...         ...         ...     ...         ...   ...           ...       ...  \n",
       "1095        Yes         NaN     NaN         NaN   NaN           NaN       NaN  \n",
       "1096         No         NaN     NaN         NaN   NaN           NaN       NaN  \n",
       "1097        Yes         NaN     NaN         NaN   NaN           NaN       NaN  \n",
       "1098         No         NaN     NaN         NaN   NaN           NaN       NaN  \n",
       "1099        Yes         NaN     NaN         NaN   NaN           NaN       NaN  \n",
       "\n",
       "[1100 rows x 16 columns]"
      ]
     },
     "execution_count": 3,
     "metadata": {},
     "output_type": "execute_result"
    }
   ],
   "source": [
    "claims=pd.read_csv('claims.csv')\n",
    "cust=pd.read_csv('cust_demographics.csv')\n",
    "claims_cust=pd.merge(how='left',left=claims,right=cust,left_on='customer_id',right_on='CUST_ID')\n",
    "claims_cust"
   ]
  },
  {
   "cell_type": "markdown",
   "id": "695b2e90",
   "metadata": {},
   "source": [
    "## 2. Perform a data audit for the datatypes and find out if there are mismatch within the current datatypes of the columns and their business significance."
   ]
  },
  {
   "cell_type": "code",
   "execution_count": 4,
   "id": "aeb6e375",
   "metadata": {},
   "outputs": [
    {
     "name": "stdout",
     "output_type": "stream",
     "text": [
      "<class 'pandas.core.frame.DataFrame'>\n",
      "Int64Index: 1100 entries, 0 to 1099\n",
      "Data columns (total 16 columns):\n",
      " #   Column               Non-Null Count  Dtype         \n",
      "---  ------               --------------  -----         \n",
      " 0   claim_id             1100 non-null   int64         \n",
      " 1   customer_id          1100 non-null   int64         \n",
      " 2   incident_cause       1100 non-null   object        \n",
      " 3   claim_date           1100 non-null   datetime64[ns]\n",
      " 4   claim_area           1100 non-null   object        \n",
      " 5   police_report        1100 non-null   object        \n",
      " 6   claim_type           1100 non-null   object        \n",
      " 7   claim_amount         1035 non-null   object        \n",
      " 8   total_policy_claims  1090 non-null   float64       \n",
      " 9   fraudulent           1100 non-null   object        \n",
      " 10  CUST_ID              1085 non-null   float64       \n",
      " 11  gender               1085 non-null   object        \n",
      " 12  DateOfBirth          1085 non-null   datetime64[ns]\n",
      " 13  State                1085 non-null   object        \n",
      " 14  Contact              1085 non-null   object        \n",
      " 15  Segment              1085 non-null   object        \n",
      "dtypes: datetime64[ns](2), float64(2), int64(2), object(10)\n",
      "memory usage: 146.1+ KB\n"
     ]
    }
   ],
   "source": [
    "claims_cust[\"claim_date\"]=pd.to_datetime(claims_cust[\"claim_date\"])\n",
    "claims_cust[\"DateOfBirth\"]=pd.to_datetime(claims_cust[\"DateOfBirth\"])\n",
    "claims_cust.info()"
   ]
  },
  {
   "cell_type": "markdown",
   "id": "50b149ef",
   "metadata": {},
   "source": [
    "## 3. Convert the column claim_amount to numeric. Use the appropriate modules/attributes to remove the $ sign.\n"
   ]
  },
  {
   "cell_type": "code",
   "execution_count": 5,
   "id": "8c53866c",
   "metadata": {},
   "outputs": [
    {
     "name": "stderr",
     "output_type": "stream",
     "text": [
      "C:\\Users\\itsfe\\AppData\\Local\\Temp\\ipykernel_33340\\3323891142.py:1: FutureWarning: The default value of regex will change from True to False in a future version. In addition, single character regular expressions will *not* be treated as literal strings when regex=True.\n",
      "  claims_cust['claim_amount']=claims_cust['claim_amount'].str.replace('$','')\n"
     ]
    },
    {
     "data": {
      "text/html": [
       "<div>\n",
       "<style scoped>\n",
       "    .dataframe tbody tr th:only-of-type {\n",
       "        vertical-align: middle;\n",
       "    }\n",
       "\n",
       "    .dataframe tbody tr th {\n",
       "        vertical-align: top;\n",
       "    }\n",
       "\n",
       "    .dataframe thead th {\n",
       "        text-align: right;\n",
       "    }\n",
       "</style>\n",
       "<table border=\"1\" class=\"dataframe\">\n",
       "  <thead>\n",
       "    <tr style=\"text-align: right;\">\n",
       "      <th></th>\n",
       "      <th>claim_id</th>\n",
       "      <th>customer_id</th>\n",
       "      <th>incident_cause</th>\n",
       "      <th>claim_date</th>\n",
       "      <th>claim_area</th>\n",
       "      <th>police_report</th>\n",
       "      <th>claim_type</th>\n",
       "      <th>claim_amount</th>\n",
       "      <th>total_policy_claims</th>\n",
       "      <th>fraudulent</th>\n",
       "      <th>CUST_ID</th>\n",
       "      <th>gender</th>\n",
       "      <th>DateOfBirth</th>\n",
       "      <th>State</th>\n",
       "      <th>Contact</th>\n",
       "      <th>Segment</th>\n",
       "    </tr>\n",
       "  </thead>\n",
       "  <tbody>\n",
       "    <tr>\n",
       "      <th>0</th>\n",
       "      <td>54004764</td>\n",
       "      <td>21868593</td>\n",
       "      <td>Driver error</td>\n",
       "      <td>2017-11-27</td>\n",
       "      <td>Auto</td>\n",
       "      <td>No</td>\n",
       "      <td>Material only</td>\n",
       "      <td>2980</td>\n",
       "      <td>1.0</td>\n",
       "      <td>No</td>\n",
       "      <td>21868593.0</td>\n",
       "      <td>Female</td>\n",
       "      <td>1979-01-12</td>\n",
       "      <td>VT</td>\n",
       "      <td>789-916-8172</td>\n",
       "      <td>Platinum</td>\n",
       "    </tr>\n",
       "    <tr>\n",
       "      <th>1</th>\n",
       "      <td>33985796</td>\n",
       "      <td>75740424</td>\n",
       "      <td>Crime</td>\n",
       "      <td>2018-10-03</td>\n",
       "      <td>Home</td>\n",
       "      <td>Unknown</td>\n",
       "      <td>Material only</td>\n",
       "      <td>2980</td>\n",
       "      <td>3.0</td>\n",
       "      <td>No</td>\n",
       "      <td>75740424.0</td>\n",
       "      <td>Female</td>\n",
       "      <td>2070-01-13</td>\n",
       "      <td>ME</td>\n",
       "      <td>265-543-1264</td>\n",
       "      <td>Silver</td>\n",
       "    </tr>\n",
       "    <tr>\n",
       "      <th>2</th>\n",
       "      <td>53522022</td>\n",
       "      <td>30308357</td>\n",
       "      <td>Other driver error</td>\n",
       "      <td>2018-02-02</td>\n",
       "      <td>Auto</td>\n",
       "      <td>No</td>\n",
       "      <td>Material only</td>\n",
       "      <td>3369.5</td>\n",
       "      <td>1.0</td>\n",
       "      <td>Yes</td>\n",
       "      <td>30308357.0</td>\n",
       "      <td>Female</td>\n",
       "      <td>1984-03-11</td>\n",
       "      <td>TN</td>\n",
       "      <td>798-631-4758</td>\n",
       "      <td>Silver</td>\n",
       "    </tr>\n",
       "    <tr>\n",
       "      <th>3</th>\n",
       "      <td>13015401</td>\n",
       "      <td>47830476</td>\n",
       "      <td>Natural causes</td>\n",
       "      <td>2018-06-17</td>\n",
       "      <td>Auto</td>\n",
       "      <td>No</td>\n",
       "      <td>Material only</td>\n",
       "      <td>1680</td>\n",
       "      <td>1.0</td>\n",
       "      <td>No</td>\n",
       "      <td>47830476.0</td>\n",
       "      <td>Female</td>\n",
       "      <td>1986-05-01</td>\n",
       "      <td>MA</td>\n",
       "      <td>413-187-7945</td>\n",
       "      <td>Silver</td>\n",
       "    </tr>\n",
       "    <tr>\n",
       "      <th>4</th>\n",
       "      <td>22890252</td>\n",
       "      <td>19269962</td>\n",
       "      <td>Crime</td>\n",
       "      <td>2018-01-13</td>\n",
       "      <td>Auto</td>\n",
       "      <td>No</td>\n",
       "      <td>Material only</td>\n",
       "      <td>2680</td>\n",
       "      <td>1.0</td>\n",
       "      <td>No</td>\n",
       "      <td>19269962.0</td>\n",
       "      <td>Male</td>\n",
       "      <td>1977-05-13</td>\n",
       "      <td>NV</td>\n",
       "      <td>956-871-8691</td>\n",
       "      <td>Gold</td>\n",
       "    </tr>\n",
       "    <tr>\n",
       "      <th>...</th>\n",
       "      <td>...</td>\n",
       "      <td>...</td>\n",
       "      <td>...</td>\n",
       "      <td>...</td>\n",
       "      <td>...</td>\n",
       "      <td>...</td>\n",
       "      <td>...</td>\n",
       "      <td>...</td>\n",
       "      <td>...</td>\n",
       "      <td>...</td>\n",
       "      <td>...</td>\n",
       "      <td>...</td>\n",
       "      <td>...</td>\n",
       "      <td>...</td>\n",
       "      <td>...</td>\n",
       "      <td>...</td>\n",
       "    </tr>\n",
       "    <tr>\n",
       "      <th>1095</th>\n",
       "      <td>97727122</td>\n",
       "      <td>35951012</td>\n",
       "      <td>Other driver error</td>\n",
       "      <td>2017-06-11</td>\n",
       "      <td>Auto</td>\n",
       "      <td>No</td>\n",
       "      <td>Material only</td>\n",
       "      <td>3059</td>\n",
       "      <td>4.0</td>\n",
       "      <td>Yes</td>\n",
       "      <td>NaN</td>\n",
       "      <td>NaN</td>\n",
       "      <td>NaT</td>\n",
       "      <td>NaN</td>\n",
       "      <td>NaN</td>\n",
       "      <td>NaN</td>\n",
       "    </tr>\n",
       "    <tr>\n",
       "      <th>1096</th>\n",
       "      <td>10247193</td>\n",
       "      <td>14818669</td>\n",
       "      <td>Natural causes</td>\n",
       "      <td>2018-03-14</td>\n",
       "      <td>Auto</td>\n",
       "      <td>No</td>\n",
       "      <td>Material only</td>\n",
       "      <td>1520</td>\n",
       "      <td>2.0</td>\n",
       "      <td>No</td>\n",
       "      <td>NaN</td>\n",
       "      <td>NaN</td>\n",
       "      <td>NaT</td>\n",
       "      <td>NaN</td>\n",
       "      <td>NaN</td>\n",
       "      <td>NaN</td>\n",
       "    </tr>\n",
       "    <tr>\n",
       "      <th>1097</th>\n",
       "      <td>79807493</td>\n",
       "      <td>85322831</td>\n",
       "      <td>Other driver error</td>\n",
       "      <td>2018-02-09</td>\n",
       "      <td>Auto</td>\n",
       "      <td>No</td>\n",
       "      <td>Material and injury</td>\n",
       "      <td>23575</td>\n",
       "      <td>2.0</td>\n",
       "      <td>Yes</td>\n",
       "      <td>NaN</td>\n",
       "      <td>NaN</td>\n",
       "      <td>NaT</td>\n",
       "      <td>NaN</td>\n",
       "      <td>NaN</td>\n",
       "      <td>NaN</td>\n",
       "    </tr>\n",
       "    <tr>\n",
       "      <th>1098</th>\n",
       "      <td>69299345</td>\n",
       "      <td>73449366</td>\n",
       "      <td>Other causes</td>\n",
       "      <td>2018-03-21</td>\n",
       "      <td>Auto</td>\n",
       "      <td>Unknown</td>\n",
       "      <td>Material and injury</td>\n",
       "      <td>25120</td>\n",
       "      <td>1.0</td>\n",
       "      <td>No</td>\n",
       "      <td>NaN</td>\n",
       "      <td>NaN</td>\n",
       "      <td>NaT</td>\n",
       "      <td>NaN</td>\n",
       "      <td>NaN</td>\n",
       "      <td>NaN</td>\n",
       "    </tr>\n",
       "    <tr>\n",
       "      <th>1099</th>\n",
       "      <td>58809728</td>\n",
       "      <td>43020876</td>\n",
       "      <td>Other driver error</td>\n",
       "      <td>2017-06-04</td>\n",
       "      <td>Auto</td>\n",
       "      <td>Yes</td>\n",
       "      <td>Material and injury</td>\n",
       "      <td>36685</td>\n",
       "      <td>3.0</td>\n",
       "      <td>Yes</td>\n",
       "      <td>NaN</td>\n",
       "      <td>NaN</td>\n",
       "      <td>NaT</td>\n",
       "      <td>NaN</td>\n",
       "      <td>NaN</td>\n",
       "      <td>NaN</td>\n",
       "    </tr>\n",
       "  </tbody>\n",
       "</table>\n",
       "<p>1100 rows × 16 columns</p>\n",
       "</div>"
      ],
      "text/plain": [
       "      claim_id  customer_id      incident_cause claim_date claim_area  \\\n",
       "0     54004764     21868593        Driver error 2017-11-27       Auto   \n",
       "1     33985796     75740424               Crime 2018-10-03       Home   \n",
       "2     53522022     30308357  Other driver error 2018-02-02       Auto   \n",
       "3     13015401     47830476      Natural causes 2018-06-17       Auto   \n",
       "4     22890252     19269962               Crime 2018-01-13       Auto   \n",
       "...        ...          ...                 ...        ...        ...   \n",
       "1095  97727122     35951012  Other driver error 2017-06-11       Auto   \n",
       "1096  10247193     14818669      Natural causes 2018-03-14       Auto   \n",
       "1097  79807493     85322831  Other driver error 2018-02-09       Auto   \n",
       "1098  69299345     73449366        Other causes 2018-03-21       Auto   \n",
       "1099  58809728     43020876  Other driver error 2017-06-04       Auto   \n",
       "\n",
       "     police_report           claim_type claim_amount  total_policy_claims  \\\n",
       "0               No        Material only         2980                  1.0   \n",
       "1          Unknown        Material only         2980                  3.0   \n",
       "2               No        Material only       3369.5                  1.0   \n",
       "3               No        Material only         1680                  1.0   \n",
       "4               No        Material only         2680                  1.0   \n",
       "...            ...                  ...          ...                  ...   \n",
       "1095            No        Material only         3059                  4.0   \n",
       "1096            No        Material only         1520                  2.0   \n",
       "1097            No  Material and injury        23575                  2.0   \n",
       "1098       Unknown  Material and injury        25120                  1.0   \n",
       "1099           Yes  Material and injury        36685                  3.0   \n",
       "\n",
       "     fraudulent     CUST_ID  gender DateOfBirth State       Contact   Segment  \n",
       "0            No  21868593.0  Female  1979-01-12    VT  789-916-8172  Platinum  \n",
       "1            No  75740424.0  Female  2070-01-13    ME  265-543-1264    Silver  \n",
       "2           Yes  30308357.0  Female  1984-03-11    TN  798-631-4758    Silver  \n",
       "3            No  47830476.0  Female  1986-05-01    MA  413-187-7945    Silver  \n",
       "4            No  19269962.0    Male  1977-05-13    NV  956-871-8691      Gold  \n",
       "...         ...         ...     ...         ...   ...           ...       ...  \n",
       "1095        Yes         NaN     NaN         NaT   NaN           NaN       NaN  \n",
       "1096         No         NaN     NaN         NaT   NaN           NaN       NaN  \n",
       "1097        Yes         NaN     NaN         NaT   NaN           NaN       NaN  \n",
       "1098         No         NaN     NaN         NaT   NaN           NaN       NaN  \n",
       "1099        Yes         NaN     NaN         NaT   NaN           NaN       NaN  \n",
       "\n",
       "[1100 rows x 16 columns]"
      ]
     },
     "execution_count": 5,
     "metadata": {},
     "output_type": "execute_result"
    }
   ],
   "source": [
    "claims_cust['claim_amount']=claims_cust['claim_amount'].str.replace('$','')\n",
    "claims_cust.claim_amount.astype('float64')\n",
    "claims_cust"
   ]
  },
  {
   "cell_type": "markdown",
   "id": "67ad8bd3",
   "metadata": {},
   "source": [
    "## 4. Of all the injury claims, some of them have gone unreported with the police. Create an alert flag (1,0) for all such claims."
   ]
  },
  {
   "cell_type": "code",
   "execution_count": 6,
   "id": "3b7c21f3",
   "metadata": {},
   "outputs": [
    {
     "name": "stderr",
     "output_type": "stream",
     "text": [
      "C:\\Users\\itsfe\\AppData\\Local\\Temp\\ipykernel_33340\\3897031616.py:2: SettingWithCopyWarning: \n",
      "A value is trying to be set on a copy of a slice from a DataFrame.\n",
      "Try using .loc[row_indexer,col_indexer] = value instead\n",
      "\n",
      "See the caveats in the documentation: https://pandas.pydata.org/pandas-docs/stable/user_guide/indexing.html#returning-a-view-versus-a-copy\n",
      "  injury['alert_flag']=np.where(injury.police_report=='No','0',(np.where(injury.police_report=='Yes','1','Unknown')))\n"
     ]
    },
    {
     "data": {
      "text/html": [
       "<div>\n",
       "<style scoped>\n",
       "    .dataframe tbody tr th:only-of-type {\n",
       "        vertical-align: middle;\n",
       "    }\n",
       "\n",
       "    .dataframe tbody tr th {\n",
       "        vertical-align: top;\n",
       "    }\n",
       "\n",
       "    .dataframe thead th {\n",
       "        text-align: right;\n",
       "    }\n",
       "</style>\n",
       "<table border=\"1\" class=\"dataframe\">\n",
       "  <thead>\n",
       "    <tr style=\"text-align: right;\">\n",
       "      <th></th>\n",
       "      <th>claim_id</th>\n",
       "      <th>customer_id</th>\n",
       "      <th>incident_cause</th>\n",
       "      <th>claim_date</th>\n",
       "      <th>claim_area</th>\n",
       "      <th>police_report</th>\n",
       "      <th>claim_type</th>\n",
       "      <th>claim_amount</th>\n",
       "      <th>total_policy_claims</th>\n",
       "      <th>fraudulent</th>\n",
       "      <th>CUST_ID</th>\n",
       "      <th>gender</th>\n",
       "      <th>DateOfBirth</th>\n",
       "      <th>State</th>\n",
       "      <th>Contact</th>\n",
       "      <th>Segment</th>\n",
       "      <th>alert_flag</th>\n",
       "    </tr>\n",
       "  </thead>\n",
       "  <tbody>\n",
       "    <tr>\n",
       "      <th>5</th>\n",
       "      <td>24050443</td>\n",
       "      <td>21831191</td>\n",
       "      <td>Other driver error</td>\n",
       "      <td>2017-10-04</td>\n",
       "      <td>Auto</td>\n",
       "      <td>No</td>\n",
       "      <td>Injury only</td>\n",
       "      <td>38306.5</td>\n",
       "      <td>3.0</td>\n",
       "      <td>Yes</td>\n",
       "      <td>21831191.0</td>\n",
       "      <td>Male</td>\n",
       "      <td>1977-05-17</td>\n",
       "      <td>NH</td>\n",
       "      <td>419-712-8513</td>\n",
       "      <td>Gold</td>\n",
       "      <td>0</td>\n",
       "    </tr>\n",
       "    <tr>\n",
       "      <th>14</th>\n",
       "      <td>67257404</td>\n",
       "      <td>18288638</td>\n",
       "      <td>Other driver error</td>\n",
       "      <td>2018-04-24</td>\n",
       "      <td>Auto</td>\n",
       "      <td>Yes</td>\n",
       "      <td>Injury only</td>\n",
       "      <td>32560</td>\n",
       "      <td>1.0</td>\n",
       "      <td>No</td>\n",
       "      <td>18288638.0</td>\n",
       "      <td>Female</td>\n",
       "      <td>2069-01-14</td>\n",
       "      <td>MI</td>\n",
       "      <td>314-135-1359</td>\n",
       "      <td>Platinum</td>\n",
       "      <td>1</td>\n",
       "    </tr>\n",
       "    <tr>\n",
       "      <th>17</th>\n",
       "      <td>7809917</td>\n",
       "      <td>63916778</td>\n",
       "      <td>Other causes</td>\n",
       "      <td>2017-07-22</td>\n",
       "      <td>Auto</td>\n",
       "      <td>No</td>\n",
       "      <td>Injury only</td>\n",
       "      <td>17800</td>\n",
       "      <td>1.0</td>\n",
       "      <td>No</td>\n",
       "      <td>63916778.0</td>\n",
       "      <td>Male</td>\n",
       "      <td>2066-09-07</td>\n",
       "      <td>IL</td>\n",
       "      <td>146-157-4572</td>\n",
       "      <td>Platinum</td>\n",
       "      <td>0</td>\n",
       "    </tr>\n",
       "    <tr>\n",
       "      <th>18</th>\n",
       "      <td>29205389</td>\n",
       "      <td>17004138</td>\n",
       "      <td>Natural causes</td>\n",
       "      <td>2017-06-25</td>\n",
       "      <td>Auto</td>\n",
       "      <td>No</td>\n",
       "      <td>Injury only</td>\n",
       "      <td>31380</td>\n",
       "      <td>1.0</td>\n",
       "      <td>No</td>\n",
       "      <td>17004138.0</td>\n",
       "      <td>Female</td>\n",
       "      <td>2065-08-13</td>\n",
       "      <td>WA</td>\n",
       "      <td>436-354-4682</td>\n",
       "      <td>Silver</td>\n",
       "      <td>0</td>\n",
       "    </tr>\n",
       "    <tr>\n",
       "      <th>19</th>\n",
       "      <td>19051665</td>\n",
       "      <td>9667764</td>\n",
       "      <td>Other causes</td>\n",
       "      <td>2017-12-17</td>\n",
       "      <td>Auto</td>\n",
       "      <td>Yes</td>\n",
       "      <td>Injury only</td>\n",
       "      <td>36190</td>\n",
       "      <td>1.0</td>\n",
       "      <td>No</td>\n",
       "      <td>9667764.0</td>\n",
       "      <td>Female</td>\n",
       "      <td>1979-10-10</td>\n",
       "      <td>SC</td>\n",
       "      <td>643-978-8251</td>\n",
       "      <td>Platinum</td>\n",
       "      <td>1</td>\n",
       "    </tr>\n",
       "    <tr>\n",
       "      <th>...</th>\n",
       "      <td>...</td>\n",
       "      <td>...</td>\n",
       "      <td>...</td>\n",
       "      <td>...</td>\n",
       "      <td>...</td>\n",
       "      <td>...</td>\n",
       "      <td>...</td>\n",
       "      <td>...</td>\n",
       "      <td>...</td>\n",
       "      <td>...</td>\n",
       "      <td>...</td>\n",
       "      <td>...</td>\n",
       "      <td>...</td>\n",
       "      <td>...</td>\n",
       "      <td>...</td>\n",
       "      <td>...</td>\n",
       "      <td>...</td>\n",
       "    </tr>\n",
       "    <tr>\n",
       "      <th>1064</th>\n",
       "      <td>56358443</td>\n",
       "      <td>75934330</td>\n",
       "      <td>Natural causes</td>\n",
       "      <td>2017-01-01</td>\n",
       "      <td>Auto</td>\n",
       "      <td>Yes</td>\n",
       "      <td>Injury only</td>\n",
       "      <td>20630</td>\n",
       "      <td>1.0</td>\n",
       "      <td>No</td>\n",
       "      <td>75934330.0</td>\n",
       "      <td>Female</td>\n",
       "      <td>1987-10-09</td>\n",
       "      <td>ME</td>\n",
       "      <td>951-941-3975</td>\n",
       "      <td>Platinum</td>\n",
       "      <td>1</td>\n",
       "    </tr>\n",
       "    <tr>\n",
       "      <th>1072</th>\n",
       "      <td>50800999</td>\n",
       "      <td>51669975</td>\n",
       "      <td>Other causes</td>\n",
       "      <td>2018-09-19</td>\n",
       "      <td>Home</td>\n",
       "      <td>Yes</td>\n",
       "      <td>Injury only</td>\n",
       "      <td>38950</td>\n",
       "      <td>1.0</td>\n",
       "      <td>No</td>\n",
       "      <td>51669975.0</td>\n",
       "      <td>Female</td>\n",
       "      <td>1988-02-05</td>\n",
       "      <td>ND</td>\n",
       "      <td>975-463-9541</td>\n",
       "      <td>Silver</td>\n",
       "      <td>1</td>\n",
       "    </tr>\n",
       "    <tr>\n",
       "      <th>1074</th>\n",
       "      <td>36599575</td>\n",
       "      <td>87596868</td>\n",
       "      <td>Driver error</td>\n",
       "      <td>2018-10-09</td>\n",
       "      <td>Auto</td>\n",
       "      <td>Unknown</td>\n",
       "      <td>Injury only</td>\n",
       "      <td>33330</td>\n",
       "      <td>2.0</td>\n",
       "      <td>No</td>\n",
       "      <td>87596868.0</td>\n",
       "      <td>Male</td>\n",
       "      <td>2061-11-18</td>\n",
       "      <td>AZ</td>\n",
       "      <td>573-396-3182</td>\n",
       "      <td>Silver</td>\n",
       "      <td>Unknown</td>\n",
       "    </tr>\n",
       "    <tr>\n",
       "      <th>1082</th>\n",
       "      <td>22690595</td>\n",
       "      <td>19888166</td>\n",
       "      <td>Other driver error</td>\n",
       "      <td>2017-05-15</td>\n",
       "      <td>Auto</td>\n",
       "      <td>Yes</td>\n",
       "      <td>Injury only</td>\n",
       "      <td>33080</td>\n",
       "      <td>2.0</td>\n",
       "      <td>No</td>\n",
       "      <td>19888166.0</td>\n",
       "      <td>Male</td>\n",
       "      <td>1990-04-11</td>\n",
       "      <td>WI</td>\n",
       "      <td>712-651-9613</td>\n",
       "      <td>Gold</td>\n",
       "      <td>1</td>\n",
       "    </tr>\n",
       "    <tr>\n",
       "      <th>1087</th>\n",
       "      <td>45052103</td>\n",
       "      <td>55466148</td>\n",
       "      <td>Driver error</td>\n",
       "      <td>2017-12-03</td>\n",
       "      <td>Auto</td>\n",
       "      <td>No</td>\n",
       "      <td>Injury only</td>\n",
       "      <td>29010</td>\n",
       "      <td>1.0</td>\n",
       "      <td>No</td>\n",
       "      <td>NaN</td>\n",
       "      <td>NaN</td>\n",
       "      <td>NaT</td>\n",
       "      <td>NaN</td>\n",
       "      <td>NaN</td>\n",
       "      <td>NaN</td>\n",
       "      <td>0</td>\n",
       "    </tr>\n",
       "  </tbody>\n",
       "</table>\n",
       "<p>196 rows × 17 columns</p>\n",
       "</div>"
      ],
      "text/plain": [
       "      claim_id  customer_id      incident_cause claim_date claim_area  \\\n",
       "5     24050443     21831191  Other driver error 2017-10-04       Auto   \n",
       "14    67257404     18288638  Other driver error 2018-04-24       Auto   \n",
       "17     7809917     63916778        Other causes 2017-07-22       Auto   \n",
       "18    29205389     17004138      Natural causes 2017-06-25       Auto   \n",
       "19    19051665      9667764        Other causes 2017-12-17       Auto   \n",
       "...        ...          ...                 ...        ...        ...   \n",
       "1064  56358443     75934330      Natural causes 2017-01-01       Auto   \n",
       "1072  50800999     51669975        Other causes 2018-09-19       Home   \n",
       "1074  36599575     87596868        Driver error 2018-10-09       Auto   \n",
       "1082  22690595     19888166  Other driver error 2017-05-15       Auto   \n",
       "1087  45052103     55466148        Driver error 2017-12-03       Auto   \n",
       "\n",
       "     police_report   claim_type claim_amount  total_policy_claims fraudulent  \\\n",
       "5               No  Injury only      38306.5                  3.0        Yes   \n",
       "14             Yes  Injury only        32560                  1.0         No   \n",
       "17              No  Injury only        17800                  1.0         No   \n",
       "18              No  Injury only        31380                  1.0         No   \n",
       "19             Yes  Injury only        36190                  1.0         No   \n",
       "...            ...          ...          ...                  ...        ...   \n",
       "1064           Yes  Injury only        20630                  1.0         No   \n",
       "1072           Yes  Injury only        38950                  1.0         No   \n",
       "1074       Unknown  Injury only        33330                  2.0         No   \n",
       "1082           Yes  Injury only        33080                  2.0         No   \n",
       "1087            No  Injury only        29010                  1.0         No   \n",
       "\n",
       "         CUST_ID  gender DateOfBirth State       Contact   Segment alert_flag  \n",
       "5     21831191.0    Male  1977-05-17    NH  419-712-8513      Gold          0  \n",
       "14    18288638.0  Female  2069-01-14    MI  314-135-1359  Platinum          1  \n",
       "17    63916778.0    Male  2066-09-07    IL  146-157-4572  Platinum          0  \n",
       "18    17004138.0  Female  2065-08-13    WA  436-354-4682    Silver          0  \n",
       "19     9667764.0  Female  1979-10-10    SC  643-978-8251  Platinum          1  \n",
       "...          ...     ...         ...   ...           ...       ...        ...  \n",
       "1064  75934330.0  Female  1987-10-09    ME  951-941-3975  Platinum          1  \n",
       "1072  51669975.0  Female  1988-02-05    ND  975-463-9541    Silver          1  \n",
       "1074  87596868.0    Male  2061-11-18    AZ  573-396-3182    Silver    Unknown  \n",
       "1082  19888166.0    Male  1990-04-11    WI  712-651-9613      Gold          1  \n",
       "1087         NaN     NaN         NaT   NaN           NaN       NaN          0  \n",
       "\n",
       "[196 rows x 17 columns]"
      ]
     },
     "execution_count": 6,
     "metadata": {},
     "output_type": "execute_result"
    }
   ],
   "source": [
    "injury=claims_cust[claims_cust.claim_type=='Injury only']\n",
    "injury['alert_flag']=np.where(injury.police_report=='No','0',(np.where(injury.police_report=='Yes','1','Unknown')))\n",
    "injury"
   ]
  },
  {
   "cell_type": "markdown",
   "id": "8ccd01c0",
   "metadata": {},
   "source": [
    "## 5. One customer can claim for insurance more than once and in each claim, multiple categories of claims can be involved. However, customer ID should remain unique.Retain the most recent observation and delete any duplicated records in the data based on the customer ID column."
   ]
  },
  {
   "cell_type": "code",
   "execution_count": 7,
   "id": "1b354a8b",
   "metadata": {},
   "outputs": [
    {
     "data": {
      "text/html": [
       "<div>\n",
       "<style scoped>\n",
       "    .dataframe tbody tr th:only-of-type {\n",
       "        vertical-align: middle;\n",
       "    }\n",
       "\n",
       "    .dataframe tbody tr th {\n",
       "        vertical-align: top;\n",
       "    }\n",
       "\n",
       "    .dataframe thead th {\n",
       "        text-align: right;\n",
       "    }\n",
       "</style>\n",
       "<table border=\"1\" class=\"dataframe\">\n",
       "  <thead>\n",
       "    <tr style=\"text-align: right;\">\n",
       "      <th></th>\n",
       "      <th>claim_date</th>\n",
       "    </tr>\n",
       "    <tr>\n",
       "      <th>customer_id</th>\n",
       "      <th></th>\n",
       "    </tr>\n",
       "  </thead>\n",
       "  <tbody>\n",
       "    <tr>\n",
       "      <th>154557</th>\n",
       "      <td>2018-04-10</td>\n",
       "    </tr>\n",
       "    <tr>\n",
       "      <th>263204</th>\n",
       "      <td>2018-04-04</td>\n",
       "    </tr>\n",
       "    <tr>\n",
       "      <th>287476</th>\n",
       "      <td>2017-10-17</td>\n",
       "    </tr>\n",
       "    <tr>\n",
       "      <th>441097</th>\n",
       "      <td>2018-03-21</td>\n",
       "    </tr>\n",
       "    <tr>\n",
       "      <th>524545</th>\n",
       "      <td>2018-07-27</td>\n",
       "    </tr>\n",
       "    <tr>\n",
       "      <th>...</th>\n",
       "      <td>...</td>\n",
       "    </tr>\n",
       "    <tr>\n",
       "      <th>99674324</th>\n",
       "      <td>2018-07-07</td>\n",
       "    </tr>\n",
       "    <tr>\n",
       "      <th>99723844</th>\n",
       "      <td>2018-01-06</td>\n",
       "    </tr>\n",
       "    <tr>\n",
       "      <th>99761663</th>\n",
       "      <td>2018-04-04</td>\n",
       "    </tr>\n",
       "    <tr>\n",
       "      <th>99892000</th>\n",
       "      <td>2017-11-13</td>\n",
       "    </tr>\n",
       "    <tr>\n",
       "      <th>99961993</th>\n",
       "      <td>2018-10-23</td>\n",
       "    </tr>\n",
       "  </tbody>\n",
       "</table>\n",
       "<p>1093 rows × 1 columns</p>\n",
       "</div>"
      ],
      "text/plain": [
       "            claim_date\n",
       "customer_id           \n",
       "154557      2018-04-10\n",
       "263204      2018-04-04\n",
       "287476      2017-10-17\n",
       "441097      2018-03-21\n",
       "524545      2018-07-27\n",
       "...                ...\n",
       "99674324    2018-07-07\n",
       "99723844    2018-01-06\n",
       "99761663    2018-04-04\n",
       "99892000    2017-11-13\n",
       "99961993    2018-10-23\n",
       "\n",
       "[1093 rows x 1 columns]"
      ]
     },
     "execution_count": 7,
     "metadata": {},
     "output_type": "execute_result"
    }
   ],
   "source": [
    "claims_cust['claim_date']=claims_cust.claim_date.astype('datetime64')\n",
    "unique=pd.pivot_table(data=claims_cust,values='claim_date',index='customer_id',aggfunc='min')\n",
    "unique"
   ]
  },
  {
   "cell_type": "markdown",
   "id": "4ece90e8",
   "metadata": {},
   "source": [
    "## 6. Check for missing values and impute the missing values with an appropriate value. (mean for continuous and mode for categorical)"
   ]
  },
  {
   "cell_type": "code",
   "execution_count": 30,
   "id": "5161ffce",
   "metadata": {},
   "outputs": [],
   "source": [
    "cat_col = [\"CUST_ID\",\"gender\",\"DateOfBirth\",\"State\",\"Segment\",\"total_policy_claims\",\"Contact\"]\n",
    "con_col = ['claim_amount']\n",
    "#claimid, claim_date\n",
    "\n",
    "for col in cat_col:\n",
    "    claims_cust[col] = claims_cust[col].fillna(claims_cust[col].mode()[0])\n",
    "\n",
    "claims_cust[con_col] = claims_cust[con_col].fillna(claims_cust[con_col].mean())\n"
   ]
  },
  {
   "cell_type": "markdown",
   "id": "6fa2d158",
   "metadata": {},
   "source": [
    "# 7. Calculate the age of customers in years. Based on the age, categorize the customers according to the below criteria\n",
    "# Children < 18\n",
    "# Youth 18-30\n",
    "# Adult 30-60\n",
    "# Senior > 60\n"
   ]
  },
  {
   "cell_type": "code",
   "execution_count": 9,
   "id": "848abad2",
   "metadata": {},
   "outputs": [],
   "source": [
    "\n",
    "claims_cust.claim_date=claims_cust.claim_date.astype('datetime64')\n",
    "claims_cust.DateOfBirth=claims_cust.DateOfBirth.astype('datetime64')\n",
    "claims_cust['Age']=claims_cust.claim_date.dt.year-claims_cust.DateOfBirth.dt.year\n",
    "claims_cust['Age_category']=np.where(claims_cust.Age<18,'Children',(np.where(claims_cust.Age<30,'Youth',(np.where(claims_cust.Age<60,'Adult','Senior')))))"
   ]
  },
  {
   "cell_type": "code",
   "execution_count": 10,
   "id": "9bccb349",
   "metadata": {},
   "outputs": [],
   "source": [
    "claims_cust.claim_amount=claims_cust.claim_amount.astype(float)  "
   ]
  },
  {
   "cell_type": "markdown",
   "id": "56a747c8",
   "metadata": {},
   "source": [
    "## 8. What is the average amount claimed by the customers from various segments?"
   ]
  },
  {
   "cell_type": "code",
   "execution_count": 11,
   "id": "9e2a448c",
   "metadata": {},
   "outputs": [
    {
     "data": {
      "text/html": [
       "<div>\n",
       "<style scoped>\n",
       "    .dataframe tbody tr th:only-of-type {\n",
       "        vertical-align: middle;\n",
       "    }\n",
       "\n",
       "    .dataframe tbody tr th {\n",
       "        vertical-align: top;\n",
       "    }\n",
       "\n",
       "    .dataframe thead th {\n",
       "        text-align: right;\n",
       "    }\n",
       "</style>\n",
       "<table border=\"1\" class=\"dataframe\">\n",
       "  <thead>\n",
       "    <tr style=\"text-align: right;\">\n",
       "      <th></th>\n",
       "      <th>claim_amount</th>\n",
       "    </tr>\n",
       "    <tr>\n",
       "      <th>Segment</th>\n",
       "      <th></th>\n",
       "    </tr>\n",
       "  </thead>\n",
       "  <tbody>\n",
       "    <tr>\n",
       "      <th>Gold</th>\n",
       "      <td>12764.639946</td>\n",
       "    </tr>\n",
       "    <tr>\n",
       "      <th>Platinum</th>\n",
       "      <td>12336.517291</td>\n",
       "    </tr>\n",
       "    <tr>\n",
       "      <th>Silver</th>\n",
       "      <td>12185.751562</td>\n",
       "    </tr>\n",
       "  </tbody>\n",
       "</table>\n",
       "</div>"
      ],
      "text/plain": [
       "          claim_amount\n",
       "Segment               \n",
       "Gold      12764.639946\n",
       "Platinum  12336.517291\n",
       "Silver    12185.751562"
      ]
     },
     "execution_count": 11,
     "metadata": {},
     "output_type": "execute_result"
    }
   ],
   "source": [
    "\n",
    "claims_cust.groupby(by=\"Segment\")[[\"claim_amount\"]].mean()"
   ]
  },
  {
   "cell_type": "markdown",
   "id": "c7d18450",
   "metadata": {},
   "source": [
    "## 9. What is the total claim amount based on incident cause for all the claims that have been done at least 20 days prior to 1st of October, 2018."
   ]
  },
  {
   "cell_type": "code",
   "execution_count": 12,
   "id": "3bb8b831",
   "metadata": {},
   "outputs": [
    {
     "data": {
      "text/html": [
       "<div>\n",
       "<style scoped>\n",
       "    .dataframe tbody tr th:only-of-type {\n",
       "        vertical-align: middle;\n",
       "    }\n",
       "\n",
       "    .dataframe tbody tr th {\n",
       "        vertical-align: top;\n",
       "    }\n",
       "\n",
       "    .dataframe thead th {\n",
       "        text-align: right;\n",
       "    }\n",
       "</style>\n",
       "<table border=\"1\" class=\"dataframe\">\n",
       "  <thead>\n",
       "    <tr style=\"text-align: right;\">\n",
       "      <th></th>\n",
       "      <th>claim_amount</th>\n",
       "    </tr>\n",
       "    <tr>\n",
       "      <th>incident_cause</th>\n",
       "      <th></th>\n",
       "    </tr>\n",
       "  </thead>\n",
       "  <tbody>\n",
       "    <tr>\n",
       "      <th>Crime</th>\n",
       "      <td>6840.0</td>\n",
       "    </tr>\n",
       "    <tr>\n",
       "      <th>Driver error</th>\n",
       "      <td>2130.0</td>\n",
       "    </tr>\n",
       "    <tr>\n",
       "      <th>Natural causes</th>\n",
       "      <td>8418.0</td>\n",
       "    </tr>\n",
       "    <tr>\n",
       "      <th>Other causes</th>\n",
       "      <td>234756.0</td>\n",
       "    </tr>\n",
       "    <tr>\n",
       "      <th>Other driver error</th>\n",
       "      <td>47599.5</td>\n",
       "    </tr>\n",
       "  </tbody>\n",
       "</table>\n",
       "</div>"
      ],
      "text/plain": [
       "                    claim_amount\n",
       "incident_cause                  \n",
       "Crime                     6840.0\n",
       "Driver error              2130.0\n",
       "Natural causes            8418.0\n",
       "Other causes            234756.0\n",
       "Other driver error       47599.5"
      ]
     },
     "execution_count": 12,
     "metadata": {},
     "output_type": "execute_result"
    }
   ],
   "source": [
    "incident=claims_cust[(claims_cust.claim_date<'2018-10-01')&(claims_cust.claim_date>'2018-09-10')]\n",
    "pd.pivot_table(data=incident,values='claim_amount',index='incident_cause',aggfunc='sum')\n"
   ]
  },
  {
   "cell_type": "markdown",
   "id": "337a2a1e",
   "metadata": {},
   "source": [
    "## 10. How many adults from TX, DE and AK claimed insurance for driver related issues and causes?"
   ]
  },
  {
   "cell_type": "code",
   "execution_count": 13,
   "id": "0a831e40",
   "metadata": {},
   "outputs": [
    {
     "data": {
      "text/plain": [
       "17"
      ]
     },
     "execution_count": 13,
     "metadata": {},
     "output_type": "execute_result"
    }
   ],
   "source": [
    "claims_cust[(claims_cust.Age_category=='Adult')&((claims_cust.incident_cause=='Driver error')|(claims_cust.incident_cause=='Other driver error'))&((claims_cust.State=='TX')|(claims_cust.State=='DE')|(claims_cust.State=='AK'))].Age_category.count()\n"
   ]
  },
  {
   "cell_type": "markdown",
   "id": "8da24387",
   "metadata": {},
   "source": [
    "## 11. Draw a pie chart between the aggregated value of claim amount based on gender and segment. Represent the claim amount as a percentage on the pie chart."
   ]
  },
  {
   "cell_type": "code",
   "execution_count": 14,
   "id": "c6ae3cf0",
   "metadata": {},
   "outputs": [
    {
     "data": {
      "image/png": "[encoded data removed]",
      "text/plain": [
       "<Figure size 972x648 with 1 Axes>"
      ]
     },
     "metadata": {},
     "output_type": "display_data"
    }
   ],
   "source": [
    "amount=claims_cust.groupby(by=['gender','Segment'])[['claim_amount']].sum().plot(kind='pie',autopct='%3.2f',subplots=True,figsize=[13.5,9])\n",
    "plt.show()"
   ]
  },
  {
   "cell_type": "markdown",
   "id": "9c2c947b",
   "metadata": {},
   "source": [
    "## 12. Among males and females, which gender had claimed the most for any type of driver related issues? E.g. This metric can be compared using a bar chart"
   ]
  },
  {
   "cell_type": "code",
   "execution_count": 15,
   "id": "0bbc21a0",
   "metadata": {},
   "outputs": [
    {
     "data": {
      "image/png": "[encoded data removed]",
      "text/plain": [
       "<Figure size 972x648 with 1 Axes>"
      ]
     },
     "metadata": {
      "needs_background": "light"
     },
     "output_type": "display_data"
    }
   ],
   "source": [
    "claims_cust[(claims_cust.incident_cause=='Driver error')|(claims_cust.incident_cause=='Other driver error')].groupby(by='gender')[['customer_id']].count().plot(kind='bar',figsize=[13.5,9],color='orange',ylabel='Issues')\n",
    "plt.show()        \n",
    "        "
   ]
  },
  {
   "cell_type": "markdown",
   "id": "eba47e3b",
   "metadata": {},
   "source": [
    "## 13. Which age group had the maximum fraudulent policy claims? Visualize it on a bar chart"
   ]
  },
  {
   "cell_type": "code",
   "execution_count": 16,
   "id": "52bf5e70",
   "metadata": {},
   "outputs": [
    {
     "data": {
      "image/png": "[encoded data removed]",
      "text/plain": [
       "<Figure size 864x648 with 1 Axes>"
      ]
     },
     "metadata": {
      "needs_background": "light"
     },
     "output_type": "display_data"
    }
   ],
   "source": [
    "claims_cust[claims_cust.fraudulent=='Yes'].groupby(by='Age_category')[['claim_id']].count().plot(kind='bar',color='grey',ylabel='claims',figsize=[12,9])\n",
    "plt.show()"
   ]
  },
  {
   "cell_type": "markdown",
   "id": "ec8f2ba1",
   "metadata": {},
   "source": [
    "## 14. Visualize the monthly trend of the total amount that has been claimed by the customers. Ensure that on the “month” axis, the month is in a chronological order not alphabetical order."
   ]
  },
  {
   "cell_type": "code",
   "execution_count": 17,
   "id": "cf31d00e",
   "metadata": {},
   "outputs": [
    {
     "data": {
      "image/png": "[encoded data removed]",
      "text/plain": [
       "<Figure size 864x648 with 1 Axes>"
      ]
     },
     "metadata": {
      "needs_background": "light"
     },
     "output_type": "display_data"
    }
   ],
   "source": [
    "claims_cust['Month']=claims_cust.claim_date.dt.month\n",
    "claims_cust.groupby(by='Month')[['claim_amount']].sum().plot(kind='line',color='brown',ylabel='Claim Amount',figsize=[12,9])\n",
    "plt.show()"
   ]
  },
  {
   "cell_type": "markdown",
   "id": "7725d503",
   "metadata": {},
   "source": [
    "## 15. What is the average claim amount for gender and age categories and suitably represent the above using a facetted bar chart, one facet that represents fraudulent claims and the other for non-fraudulent claims."
   ]
  },
  {
   "cell_type": "code",
   "execution_count": 18,
   "id": "e45148bf",
   "metadata": {},
   "outputs": [
    {
     "data": {
      "image/png": "[encoded data removed]",
      "text/plain": [
       "<Figure size 864x504 with 2 Axes>"
      ]
     },
     "metadata": {
      "needs_background": "light"
     },
     "output_type": "display_data"
    }
   ],
   "source": [
    "fraud=claims_cust[claims_cust.fraudulent=='Yes']\n",
    "non_fraud=claims_cust[claims_cust.fraudulent=='No']\n",
    "fraudt=pd.pivot_table(data=fraud,values='claim_amount',columns=['Age_category','gender'],aggfunc='mean')\n",
    "non_fraudt=pd.pivot_table(data=non_fraud,values='claim_amount',columns=['Age_category','gender'],aggfunc='mean')\n",
    "fig,axes=plt.subplots(2,1,figsize=[12,7])\n",
    "sns.barplot(data=fraudt,ax=axes[0])\n",
    "sns.barplot(data=non_fraudt,ax=axes[1])\n",
    "plt.show()\n"
   ]
  },
  {
   "cell_type": "markdown",
   "id": "d094d885",
   "metadata": {},
   "source": [
    "## 16. Is there any similarity in the amount claimed by males and females?"
   ]
  },
  {
   "cell_type": "code",
   "execution_count": 19,
   "id": "cf60941f",
   "metadata": {
    "scrolled": true
   },
   "outputs": [],
   "source": [
    "\n",
    "female=claims_cust[claims_cust.gender=='Female']\n",
    "male=claims_cust[claims_cust.gender=='Male']\n"
   ]
  },
  {
   "cell_type": "markdown",
   "id": "c5ba5ec2",
   "metadata": {},
   "source": [
    "The variables considered for hypothesis testing are gender and claim_amount"
   ]
  },
  {
   "cell_type": "markdown",
   "id": "e7d9694e",
   "metadata": {},
   "source": [
    "## Step1"
   ]
  },
  {
   "cell_type": "markdown",
   "id": "f3466d79",
   "metadata": {},
   "source": [
    "## Defining Parameters"
   ]
  },
  {
   "cell_type": "markdown",
   "id": "0d631465",
   "metadata": {},
   "source": [
    "Null Hypothesis,H0: Claim Amount of males = claim amount of females.\n",
    "\n",
    "Alternative Hypothesis,Ha : Claim Amount of males != claim amount of females."
   ]
  },
  {
   "cell_type": "markdown",
   "id": "e1263960",
   "metadata": {},
   "source": [
    "## Step 2"
   ]
  },
  {
   "cell_type": "markdown",
   "id": "06c572bf",
   "metadata": {},
   "source": [
    "## T Test "
   ]
  },
  {
   "cell_type": "code",
   "execution_count": 20,
   "id": "4a696382",
   "metadata": {},
   "outputs": [
    {
     "name": "stdout",
     "output_type": "stream",
     "text": [
      "nan\n",
      "The two variables are not similar. \n"
     ]
    }
   ],
   "source": [
    "import scipy\n",
    "from scipy import stats\n",
    "ttest,p_value=stats.ttest_ind(female.claim_amount,male.claim_amount)\n",
    "print(p_value)\n",
    "if p_value>0.05:\n",
    "    print('The two variables are similar.')\n",
    "else:\n",
    "    print('The two variables are not similar. ')"
   ]
  },
  {
   "cell_type": "markdown",
   "id": "ec09ce71",
   "metadata": {},
   "source": [
    "## Step 3"
   ]
  },
  {
   "cell_type": "markdown",
   "id": "d460b4fc",
   "metadata": {},
   "source": [
    "# Conclusion"
   ]
  },
  {
   "cell_type": "markdown",
   "id": "c0f92db5",
   "metadata": {
    "raw_mimetype": "text/markdown"
   },
   "source": [
    "Since the pvalue is much greater, we cannot reject null hypothesis. Hence there is a similarity in the amount claimed by the males and females."
   ]
  },
  {
   "cell_type": "markdown",
   "id": "1f67516b",
   "metadata": {},
   "source": [
    "## 17. Is there any relationship between age category and segment?"
   ]
  },
  {
   "cell_type": "markdown",
   "id": "66f343cf",
   "metadata": {},
   "source": [
    "## Step1"
   ]
  },
  {
   "cell_type": "markdown",
   "id": "048638ba",
   "metadata": {},
   "source": [
    "## Defining Parameters"
   ]
  },
  {
   "cell_type": "markdown",
   "id": "00e542b1",
   "metadata": {},
   "source": [
    "Null Hypothesis,H0: Age category and Segment are not related.\n",
    "\n",
    "Alternative Hypothesis,Ha: Age category and Segment are related."
   ]
  },
  {
   "cell_type": "markdown",
   "id": "81bc7030",
   "metadata": {},
   "source": [
    "## Step 2"
   ]
  },
  {
   "cell_type": "markdown",
   "id": "4135ff6e",
   "metadata": {},
   "source": [
    "## Chi-square Test"
   ]
  },
  {
   "cell_type": "code",
   "execution_count": 21,
   "id": "5025fa2f",
   "metadata": {},
   "outputs": [
    {
     "name": "stdout",
     "output_type": "stream",
     "text": [
      "0.28014200887776347\n",
      "Segment and Age category are independent\n"
     ]
    }
   ],
   "source": [
    "contingency=pd.crosstab(claims_cust.Segment,claims_cust.Age_category)\n",
    "chi2,pval,dof,expected_values=stats.chi2_contingency(contingency)\n",
    "print(pval)\n",
    "if pval<0.05:\n",
    "    print('Segment and Age category are dependent' )\n",
    "else:\n",
    "    print('Segment and Age category are independent')"
   ]
  },
  {
   "cell_type": "markdown",
   "id": "c06e39c8",
   "metadata": {},
   "source": [
    "## Step 3"
   ]
  },
  {
   "cell_type": "markdown",
   "id": "feed918e",
   "metadata": {},
   "source": [
    "## Conclusion"
   ]
  },
  {
   "cell_type": "markdown",
   "id": "cb789597",
   "metadata": {},
   "source": [
    "Since the pvalue is greater than o.o5,we have to accept H0,ie there is no significant relation between Age_category and Segment."
   ]
  },
  {
   "cell_type": "markdown",
   "id": "efe017c9",
   "metadata": {},
   "source": [
    "## 18. The current year has shown a significant rise in claim amounts as compared to 2016-17 fiscal average which was $10,000."
   ]
  },
  {
   "cell_type": "code",
   "execution_count": 22,
   "id": "9afb137f",
   "metadata": {},
   "outputs": [
    {
     "name": "stdout",
     "output_type": "stream",
     "text": [
      "The average of claim amount in 2018 is:12652.485869565216\n"
     ]
    }
   ],
   "source": [
    "claims_cust['Year']=claims_cust.claim_date.dt.year\n",
    "yearly=claims_cust[claims_cust.Year==2018]\n",
    "fisc_avg=yearly.claim_amount.mean()\n",
    "print(f'The average of claim amount in 2018 is:{fisc_avg}')"
   ]
  },
  {
   "cell_type": "markdown",
   "id": "4f8487df",
   "metadata": {},
   "source": [
    "## Step1"
   ]
  },
  {
   "cell_type": "markdown",
   "id": "23e142af",
   "metadata": {},
   "source": [
    "## Defining Parameters"
   ]
  },
  {
   "cell_type": "markdown",
   "id": "2608ded6",
   "metadata": {},
   "source": [
    "Null Hypothesis,H0: Claim amount of 2018<= 10,000\n",
    "\n",
    "Alternative Hypothesis,Ha: Claim amount of 2018 > 10,000"
   ]
  },
  {
   "cell_type": "markdown",
   "id": "32ab5567",
   "metadata": {},
   "source": [
    "## Step 2"
   ]
  },
  {
   "cell_type": "markdown",
   "id": "778175b8",
   "metadata": {},
   "source": [
    " ## One Sampled T-Test"
   ]
  },
  {
   "cell_type": "code",
   "execution_count": 23,
   "id": "16886d43",
   "metadata": {},
   "outputs": [
    {
     "name": "stdout",
     "output_type": "stream",
     "text": [
      "nan\n",
      "There is significant increase in claim amount\n"
     ]
    }
   ],
   "source": [
    "ttest,pval=stats.ttest_1samp(yearly.claim_amount,10000)\n",
    "print(pval)\n",
    "if pval<0.05:\n",
    "    print('There is no significant increase in claim amount')\n",
    "else:\n",
    "    print('There is significant increase in claim amount')"
   ]
  },
  {
   "cell_type": "markdown",
   "id": "edd497ee",
   "metadata": {},
   "source": [
    "## Step 3"
   ]
  },
  {
   "cell_type": "markdown",
   "id": "d441bd1d",
   "metadata": {},
   "source": [
    "## Conclusion"
   ]
  },
  {
   "cell_type": "markdown",
   "id": "434f3560",
   "metadata": {},
   "source": [
    "Since pvalue is less than 0.05,we cannot reject null hypothesis H0, ie, there is no significant increase in Claim amount in 2018 compared to 2016-'17."
   ]
  },
  {
   "cell_type": "markdown",
   "id": "8d0e6def",
   "metadata": {},
   "source": [
    "## 19. Is there any difference between age groups and insurance claims?"
   ]
  },
  {
   "cell_type": "code",
   "execution_count": 24,
   "id": "7db082d6",
   "metadata": {},
   "outputs": [
    {
     "name": "stdout",
     "output_type": "stream",
     "text": [
      "The total policy claims by children is 1.5922619047619047\n",
      "The total policy claims by youth is 1.6160990712074303\n",
      "The total policy claims by adults is 1.560090702947846\n"
     ]
    }
   ],
   "source": [
    "children=claims_cust[claims_cust.Age_category=='Children']\n",
    "youth=claims_cust[claims_cust.Age_category=='Youth']\n",
    "adult=claims_cust[claims_cust.Age_category=='Adult']\n",
    "print(f'The total policy claims by children is {children.total_policy_claims.mean()}')\n",
    "print(f'The total policy claims by youth is {youth.total_policy_claims.mean()}')\n",
    "print(f'The total policy claims by adults is {adult.total_policy_claims.mean()}')"
   ]
  },
  {
   "cell_type": "markdown",
   "id": "673d4d18",
   "metadata": {},
   "source": [
    "## Step1"
   ]
  },
  {
   "cell_type": "markdown",
   "id": "c1eb958a",
   "metadata": {},
   "source": [
    "## Defining Parameters"
   ]
  },
  {
   "cell_type": "markdown",
   "id": "b1801b4e",
   "metadata": {},
   "source": [
    "Null Hypothesis,H0: Average policy claims of children= Average policy claims of youth= Average policy claims of adult\n",
    "\n",
    "Alternative hypothesis,Ha:Average policy claims of children<> Average policy claims of youth<>Average policy claims of adult"
   ]
  },
  {
   "cell_type": "markdown",
   "id": "8ab5ec78",
   "metadata": {},
   "source": [
    "## Step2"
   ]
  },
  {
   "cell_type": "markdown",
   "id": "d59d47f5",
   "metadata": {},
   "source": [
    " ## Anova Test"
   ]
  },
  {
   "cell_type": "code",
   "execution_count": 25,
   "id": "db361325",
   "metadata": {},
   "outputs": [
    {
     "name": "stdout",
     "output_type": "stream",
     "text": [
      "pvalue is:0.7947357764556859\n",
      "There is significant difference in policy claims with age category\n"
     ]
    }
   ],
   "source": [
    "f_stat,pval=stats.f_oneway(children.total_policy_claims,youth.total_policy_claims,adult.total_policy_claims)\n",
    "print(f'pvalue is:{pval}')\n",
    "if pval<0.05:\n",
    "    print('There is no significant difference in policy claims with age category')\n",
    "else:\n",
    "    print('There is significant difference in policy claims with age category')"
   ]
  },
  {
   "cell_type": "markdown",
   "id": "0198d224",
   "metadata": {},
   "source": [
    "## Step3"
   ]
  },
  {
   "cell_type": "markdown",
   "id": "ee55d13f",
   "metadata": {},
   "source": [
    "## Conclusion"
   ]
  },
  {
   "cell_type": "markdown",
   "id": "5392e054",
   "metadata": {},
   "source": [
    "Since the pvalue is greater than 0.05, we cannot reject H0 ,ie,there is significant difference between all three variables."
   ]
  },
  {
   "cell_type": "markdown",
   "id": "3f9f865e",
   "metadata": {},
   "source": [
    "## 20. Is there any relationship between total number of policy claims and the claimed amount?\n"
   ]
  },
  {
   "cell_type": "code",
   "execution_count": 32,
   "id": "acd15a37",
   "metadata": {},
   "outputs": [
    {
     "name": "stdout",
     "output_type": "stream",
     "text": [
      "Average number of policy claims is: 1.5863636363636364\n",
      "Average claim amount is: 12442.125120772922\n"
     ]
    }
   ],
   "source": [
    "policy_claims=claims_cust.total_policy_claims.mean()\n",
    "claim_amount=claims_cust.claim_amount.mean()\n",
    "print(f'Average number of policy claims is: {policy_claims}')\n",
    "print(f'Average claim amount is: {claim_amount}')"
   ]
  },
  {
   "cell_type": "markdown",
   "id": "56d7a527",
   "metadata": {},
   "source": [
    "## Step1"
   ]
  },
  {
   "cell_type": "markdown",
   "id": "f8086501",
   "metadata": {},
   "source": [
    "## Defining Parameters"
   ]
  },
  {
   "cell_type": "markdown",
   "id": "58468a92",
   "metadata": {},
   "source": [
    "Null Hypothesis,H0: There is no significant relationship between policy claims and claimed amount\n",
    "\n",
    "Alternative Hypothesis,Ha: There is significant relationship between policy claims and claimed amount"
   ]
  },
  {
   "cell_type": "markdown",
   "id": "fd3fd0d6",
   "metadata": {},
   "source": [
    "## Step2"
   ]
  },
  {
   "cell_type": "markdown",
   "id": "f74cc25b",
   "metadata": {},
   "source": [
    "## Correlation Test"
   ]
  },
  {
   "cell_type": "code",
   "execution_count": 31,
   "id": "8e69c721",
   "metadata": {},
   "outputs": [
    {
     "name": "stdout",
     "output_type": "stream",
     "text": [
      "rvalue is:-0.019998015793509932\n",
      "pvalue is: 0.5076051510518916\n",
      "There is no significant relationship between policy claims and claimed amount\n"
     ]
    }
   ],
   "source": [
    "rvalue,pval=stats.pearsonr(claims_cust.total_policy_claims,claims_cust.claim_amount)\n",
    "print(f'rvalue is:{rvalue}')\n",
    "print(f'pvalue is: {pval}')\n",
    "if pval<0.05:\n",
    "     print('There is a significant relationship between policy claims and claimed amount')\n",
    "else:\n",
    "     print('There is no significant relationship between policy claims and claimed amount')\n"
   ]
  },
  {
   "cell_type": "markdown",
   "id": "91d8823e",
   "metadata": {},
   "source": [
    "## Step3"
   ]
  },
  {
   "cell_type": "markdown",
   "id": "08631dcf",
   "metadata": {},
   "source": [
    "## Conclusion"
   ]
  },
  {
   "cell_type": "markdown",
   "id": "95052964",
   "metadata": {},
   "source": [
    "Since the pvalue is greater than 0.05, we cannot reject H0, ie, there is no significant relationship between policy claims and claimed amount"
   ]
  }
 ],
 "metadata": {
  "kernelspec": {
   "display_name": "Python 3 (ipykernel)",
   "language": "python",
   "name": "python3"
  },
  "language_info": {
   "codemirror_mode": {
    "name": "ipython",
    "version": 3
   },
   "file_extension": ".py",
   "mimetype": "text/x-python",
   "name": "python",
   "nbconvert_exporter": "python",
   "pygments_lexer": "ipython3",
   "version": "3.9.12"
  }
 },
 "nbformat": 4,
 "nbformat_minor": 5
}
